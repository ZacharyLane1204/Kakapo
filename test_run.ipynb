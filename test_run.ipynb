{
 "cells": [
  {
   "cell_type": "code",
   "execution_count": 7,
   "metadata": {},
   "outputs": [],
   "source": [
    "import lightkurve as lk\n",
    "import numpy as np\n",
    "import matplotlib.pyplot as plt\n",
    "import pandas as pd\n",
    "\n",
    "from astropy.coordinates import SkyCoord\n",
    "\n",
    "from multiprocessing import Pool\n",
    "\n",
    "from tqdm import tqdm\n",
    "import os\n",
    "import glob\n",
    "import shutil\n",
    "import time\n",
    "\n",
    "from Kakapo.build_epsf import epsf_data_creation\n",
    "from Kakapo.kakapo import Kakapo\n",
    "from Kakapo.send_myself_email import send_mail\n",
    "\n",
    "from photutils.aperture import RectangularAperture, RectangularAnnulus,CircularAperture, CircularAnnulus\n",
    "from photutils.aperture import ApertureStats, aperture_photometry\n",
    "from photutils.psf import extract_stars, EPSFStars, EPSFBuilder\n",
    "\n",
    "import warnings\n",
    "\n",
    "warnings.filterwarnings('ignore')\n",
    "\n",
    "%matplotlib widget"
   ]
  },
  {
   "cell_type": "code",
   "execution_count": 8,
   "metadata": {},
   "outputs": [],
   "source": [
    "def uno_reverse():\n",
    "    # List of directories to clean\n",
    "    directories = [\n",
    "        \"filtered_stars\",\n",
    "        \"csv_files\",\n",
    "        \"detected_events\",\n",
    "        \"difference_arrays\",\n",
    "        \"object_ids\", \n",
    "        \"figures\"\n",
    "    ]\n",
    "    \n",
    "    for directory in directories:  # Iterate over each directory\n",
    "        folder_path = os.path.join(os.getcwd(), \"Data/\" + directory)  # Create the full path to the directory\n",
    "        # print(folder_path)\n",
    "        \n",
    "        if os.path.exists(folder_path) and os.path.isdir(folder_path):  # Check if the folder exists\n",
    "            for root, dirs, files in os.walk(folder_path, topdown=False):  # Walk through the directory tree\n",
    "                for file in files: # Delete all files in the directory (in reverse order)\n",
    "                    file_path = os.path.join(root, file)\n",
    "                    try:\n",
    "                        os.remove(file_path)\n",
    "                    except Exception as e:\n",
    "                        print(f\"Failed to delete file {file_path}: {e}\")\n",
    "                \n",
    "                for dir in dirs: # Delete all subdirectories\n",
    "                    dir_path = os.path.join(root, dir)\n",
    "                    try:\n",
    "                        os.rmdir(dir_path)  # Remove the empty directory\n",
    "                    except Exception as e:\n",
    "                        print(f\"Failed to delete directory {dir_path}: {e}\")\n",
    "\n",
    "            try: # Once all files and subdirectories are removed, remove the main directory itself\n",
    "                os.rmdir(folder_path)  # Remove the now-empty directory\n",
    "            except Exception as e:\n",
    "                print(f\"Failed to delete main directory {folder_path}: {e}\")\n",
    "        else:\n",
    "            print(f\"Directory does not exist: {folder_path}\")\n",
    "            \n",
    "    for directory in directories:  # Iterate over each directory\n",
    "        folder_path = os.path.join(os.getcwd(), \"Data/\" + directory)  # Create the full path to the directory\n",
    "        # print(folder_path)\n",
    "        os.mkdir(folder_path)"
   ]
  },
  {
   "cell_type": "code",
   "execution_count": 9,
   "metadata": {},
   "outputs": [],
   "source": [
    "def download_tpfs():\n",
    "    \"\"\"\n",
    "    \"\"\"\n",
    "\n",
    "    df = pd.read_csv('/Users/zgl12/testing.csv')#, encoding='ISO-8859-1')\n",
    "    # df.to_csv('/Users/zgl12/testing.csv', encoding='utf-8', index=False)\n",
    "\n",
    "    test_case = []\n",
    "\n",
    "    for j in tqdm(range(7, len(df)), desc='Downloading TPFs'):\n",
    "        test_case_df = df.iloc[j]\n",
    "\n",
    "        camp = int(float(test_case_df['Field'].split('C')[-1]))\n",
    "        test_case_df = df.iloc[j]\n",
    "        \n",
    "        if '/' in str(test_case_df['KIC/EPIC']):\n",
    "            test_case_df['KIC/EPIC'] = float(test_case_df['KIC/EPIC'].split('/')[0])\n",
    "\n",
    "        res = lk.search_targetpixelfile(test_case_df['KIC/EPIC'], mission='K2', campaign=camp)\n",
    "        try:\n",
    "            tpf0 = res[0].download(quality_bitmask=0)\n",
    "            # tpf1 = res[1].download(quality_bitmask=0)\n",
    "            test_case.append(tpf0)\n",
    "        except:\n",
    "            continue\n",
    "\n",
    "    # targets_to_add = [211484776, 201495875, 201553364]\n",
    "\n",
    "    # for epic in tqdm(targets_to_add, desc='Downloading TPFs'):\n",
    "    #     res = lk.search_targetpixelfile(epic, mission='K2')\n",
    "        \n",
    "    #     for j in range(len(res)):\n",
    "    #         tpf = res[j].download(quality_bitmask=0)\n",
    "    #         test_case.append(tpf)\n",
    "            \n",
    "    return test_case\n",
    "\n",
    "def access_tpfs():\n",
    "    \"\"\"\n",
    "    \"\"\"\n",
    "\n",
    "    test_case = []\n",
    "\n",
    "    lightkurve_file_folder = '/Users/zgl12/.lightkurve/cache/mastDownload/K2/'\n",
    "\n",
    "    files = sorted(glob.glob(lightkurve_file_folder + '*/*.fits.gz'))\n",
    "\n",
    "    for file in tqdm(files, desc='Reading TPFs'):\n",
    "        tpf = lk.read(file)\n",
    "        test_case.append(tpf)\n",
    "        \n",
    "    return test_case"
   ]
  },
  {
   "cell_type": "code",
   "execution_count": 10,
   "metadata": {},
   "outputs": [
    {
     "name": "stderr",
     "output_type": "stream",
     "text": [
      "Reading TPFs: 100%|██████████| 74/74 [00:18<00:00,  3.95it/s]\n"
     ]
    }
   ],
   "source": [
    "uno_reverse()\n",
    "\n",
    "# test_case = download_tpfs()\n",
    "test_case = access_tpfs()\n",
    "\n",
    "# test_case = test_case[:10]\n",
    "\n",
    "# print(test_case[0])"
   ]
  },
  {
   "cell_type": "code",
   "execution_count": 12,
   "metadata": {},
   "outputs": [
    {
     "name": "stderr",
     "output_type": "stream",
     "text": [
      "Finding Gaia stars: 100%|██████████| 74/74 [00:02<00:00, 25.88it/s]\n"
     ]
    },
    {
     "data": {
      "application/vnd.jupyter.widget-view+json": {
       "model_id": "ad1815fbd9d9444186d64d988adf6a35",
       "version_major": 2,
       "version_minor": 0
      },
      "text/plain": [
       "EPSFBuilder (30 maxiters):   0%|          | 0/30 [00:00<?, ?it/s]"
      ]
     },
     "metadata": {},
     "output_type": "display_data"
    },
    {
     "data": {
      "application/vnd.jupyter.widget-view+json": {
       "model_id": "42d6543db7a24257802a61fcccf21337",
       "version_major": 2,
       "version_minor": 0
      },
      "image/png": "[encoded data removed]",
      "text/html": [
       "\n",
       "            <div style=\"display: inline-block;\">\n",
       "                <div class=\"jupyter-widgets widget-label\" style=\"text-align: center;\">\n",
       "                    Figure\n",
       "                </div>\n",
       "                <img src='data:image/png;base64,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' width=640.0/>\n",
       "            </div>\n",
       "        "
      ],
      "text/plain": [
       "Canvas(toolbar=Toolbar(toolitems=[('Home', 'Reset original view', 'home', 'home'), ('Back', 'Back to previous …"
      ]
     },
     "metadata": {},
     "output_type": "display_data"
    }
   ],
   "source": [
    "\n",
    "# epsf_data = np.load('/Users/zgl12/Python_Scripts/K2/epsf.npy')\n",
    "\n",
    "epsf_data = epsf_data_creation(test_case, path = '/Users/zgl12/Modules/Kakapo/', overwrite = True, stop_cond = 120, sampling = 1)\n",
    "\n",
    "plt.figure()\n",
    "plt.imshow(epsf_data[2:-2, 2:-2], origin = 'lower')\n",
    "plt.show()"
   ]
  },
  {
   "cell_type": "code",
   "execution_count": 6,
   "metadata": {},
   "outputs": [],
   "source": [
    "# start = time.time()\n",
    "\n",
    "# kea = Kakapo(test_case, epsf_data[2:-2, 2:-2], num_cores = 5, \n",
    "#              filtered = True, overwrite = True, savepath = './Data/',\n",
    "#              mask_value = 1200, tol = 0.003, std1 = 3, std2 = 3, detect = True, \n",
    "#              corrlim = 0.2, difflim = 1.1, fwhmlim = 5, maxlim = 0, snrlim = 4,\n",
    "#              roundness = 0.7, poiss_val = 1, siglim = 2)"
   ]
  },
  {
   "cell_type": "code",
   "execution_count": 7,
   "metadata": {},
   "outputs": [],
   "source": [
    "# # Define the file path\n",
    "# file_path = 'time_file.txt'\n",
    "\n",
    "# line = f\"Kakapo time taken: {((time.time() - start)/3600):.2f} hrs\"\n",
    "\n",
    "# with open(file_path, 'w') as f:\n",
    "#     f.write(line)\n",
    "\n",
    "# send_mail()"
   ]
  },
  {
   "cell_type": "code",
   "execution_count": 8,
   "metadata": {},
   "outputs": [],
   "source": []
  },
  {
   "cell_type": "code",
   "execution_count": null,
   "metadata": {},
   "outputs": [],
   "source": [
    "epsf_data"
   ]
  },
  {
   "cell_type": "code",
   "execution_count": null,
   "metadata": {},
   "outputs": [],
   "source": [
    "plt.figure()\n",
    "plt.imshow(epsf_data, origin = 'lower')\n",
    "plt.show()"
   ]
  },
  {
   "cell_type": "code",
   "execution_count": null,
   "metadata": {},
   "outputs": [],
   "source": []
  }
 ],
 "metadata": {
  "kernelspec": {
   "display_name": "base",
   "language": "python",
   "name": "python3"
  },
  "language_info": {
   "codemirror_mode": {
    "name": "ipython",
    "version": 3
   },
   "file_extension": ".py",
   "mimetype": "text/x-python",
   "name": "python",
   "nbconvert_exporter": "python",
   "pygments_lexer": "ipython3",
   "version": "3.11.5"
  }
 },
 "nbformat": 4,
 "nbformat_minor": 2
}
