{
 "cells": [
  {
   "cell_type": "code",
   "execution_count": 1,
   "metadata": {},
   "outputs": [],
   "source": [
    "import lightkurve as lk\n",
    "import numpy as np\n",
    "import matplotlib.pyplot as plt\n",
    "import pandas as pd\n",
    "\n",
    "from astropy.coordinates import SkyCoord\n",
    "\n",
    "from multiprocessing import Pool\n",
    "\n",
    "from tqdm import tqdm\n",
    "import os\n",
    "import glob\n",
    "\n",
    "from Kakapo.build_epsf import epsf_data_creation\n",
    "from Kakapo.kakapo import Kakapo\n",
    "\n",
    "import warnings\n",
    "\n",
    "warnings.filterwarnings('ignore')\n",
    "\n",
    "%matplotlib widget"
   ]
  },
  {
   "cell_type": "code",
   "execution_count": 2,
   "metadata": {},
   "outputs": [],
   "source": [
    "def uno_reverse():\n",
    "\n",
    "    # List of directories to clean\n",
    "    directories = [\n",
    "        \"filtered_stars\",\n",
    "        \"csv_files\",\n",
    "        \"detected_events\",\n",
    "        \"difference_arrays\",\n",
    "        \"object_ids\", \n",
    "        \"figures\"\n",
    "    ]\n",
    "    \n",
    "    for directory in directories: # Iterate over each directory\n",
    "        folder_path = os.path.join(os.getcwd(), directory) # Create the full path to the directory\n",
    "        \n",
    "        if os.path.exists(folder_path) and os.path.isdir(folder_path): # Check if the folder exists\n",
    "            files = glob.glob(os.path.join(folder_path, \"*\")) # List all files in the directory using glob\n",
    "            \n",
    "            for file in files: # Iterate through and remove each file\n",
    "                try:\n",
    "                    os.remove(file)\n",
    "                    # print(f\"Deleted: {file}\")\n",
    "                except Exception as e:\n",
    "                    print(f\"Failed to delete {file}: {e}\")\n",
    "        else:\n",
    "            print(f\"Directory does not exist: {folder_path}\")\n"
   ]
  },
  {
   "cell_type": "code",
   "execution_count": 3,
   "metadata": {},
   "outputs": [],
   "source": [
    "uno_reverse()"
   ]
  },
  {
   "cell_type": "code",
   "execution_count": 4,
   "metadata": {},
   "outputs": [],
   "source": [
    "\n",
    "plt.rc('text', usetex=True)\n",
    "plt.rc('font', family='serif')\n",
    "\n",
    "fig_width_pt = 244.0  # Get this from LaTeX using \\the\\columnwidth\n",
    "text_width_pt = 508.0 # Get this from LaTeX using \\the\\textwidth\n",
    "\n",
    "inches_per_pt = 1.0/72.27               # Convert pt to inches\n",
    "golden_mean = (np.sqrt(5)-1.0)/2.0         # Aesthetic ratio\n",
    "fig_width = fig_width_pt*inches_per_pt*1.5 # width in inches\n",
    "fig_width_full = text_width_pt*inches_per_pt*1.5  # 17\n",
    "fig_height =fig_width*golden_mean # height in inches\n",
    "fig_size = [fig_width,fig_height] #(9,5.5) #(9, 4.5)\n",
    "fig_height_full = fig_width_full*golden_mean"
   ]
  },
  {
   "cell_type": "code",
   "execution_count": null,
   "metadata": {},
   "outputs": [],
   "source": [
    "ra = 202.9625\n",
    "dec = -10.736\n",
    "\n",
    "c = SkyCoord(ra=ra,dec=dec,unit='deg')\n",
    "res = lk.search_targetpixelfile(c, mission='K2', campaign = 6, radius = 1200)#[0].download()\n",
    "\n",
    "tpfs_res = res.download_all(quality_bitmask=0)\n",
    "\n",
    "# tpfs_res[0].targetid"
   ]
  },
  {
   "cell_type": "code",
   "execution_count": null,
   "metadata": {},
   "outputs": [],
   "source": [
    "\n",
    "epsf_data = epsf_data_creation(tpfs_res)\n",
    "\n",
    "# print(epsf_data[2:-2,2:-2])\n",
    "\n",
    "plt.figure()\n",
    "plt.imshow(epsf_data[2:-2,2:-2], origin = 'lower')\n",
    "plt.show()"
   ]
  },
  {
   "cell_type": "code",
   "execution_count": null,
   "metadata": {},
   "outputs": [],
   "source": [
    "m = 25\n",
    "\n",
    "kea = Kakapo(tpfs_res[:m], epsf_data[2:-2, 2:-2], plot=False, num_cores=None, \n",
    "             mask_value=1000, tol=0.003, std1 = 3.0, std2 = 3.0, \n",
    "             detect = True, diagnostic_plots = False, save = True, filtered = True,\n",
    "             overwrite = True, corrlim=0.2, difflim=0.6, fwhmlim=2.5, maxlim=0, snrlim=5,\n",
    "             roundness=0.8, perc_val_limit=0.5, poiss_val=3, savepath='figures')"
   ]
  },
  {
   "cell_type": "code",
   "execution_count": 8,
   "metadata": {},
   "outputs": [],
   "source": [
    "# Kepler and K2 Analysis of Photometric Objects\n",
    "\n",
    "\n"
   ]
  }
 ],
 "metadata": {
  "kernelspec": {
   "display_name": "base",
   "language": "python",
   "name": "python3"
  },
  "language_info": {
   "codemirror_mode": {
    "name": "ipython",
    "version": 3
   },
   "file_extension": ".py",
   "mimetype": "text/x-python",
   "name": "python",
   "nbconvert_exporter": "python",
   "pygments_lexer": "ipython3",
   "version": "3.11.5"
  }
 },
 "nbformat": 4,
 "nbformat_minor": 2
}
