{
 "cells": [
  {
   "cell_type": "code",
   "execution_count": 1,
   "metadata": {},
   "outputs": [],
   "source": [
    "import pandas as pd\n",
    "import numpy as np\n",
    "from glob import glob\n",
    "import matplotlib.pyplot as plt\n",
    "from PIL import Image\n",
    "from IPython.display import display, clear_output\n",
    "from tqdm import tqdm\n",
    "import time\n",
    "\n",
    "%matplotlib inline"
   ]
  },
  {
   "cell_type": "code",
   "execution_count": 2,
   "metadata": {},
   "outputs": [],
   "source": [
    "plt.rc('text', usetex=True)\n",
    "plt.rc('font', family='serif')\n",
    "\n",
    "fig_width_pt = 244.0  # Get this from LaTeX using \\the\\columnwidth\n",
    "text_width_pt = 508.0 # Get this from LaTeX using \\the\\textwidth\n",
    "\n",
    "inches_per_pt = 1.0/72.27               # Convert pt to inches\n",
    "golden_mean = (np.sqrt(5)-1.0)/2.0         # Aesthetic ratio\n",
    "fig_width = fig_width_pt*inches_per_pt*1.5 # width in inches\n",
    "fig_width_full = text_width_pt*inches_per_pt  # 17\n",
    "fig_height =fig_width*golden_mean # height in inches\n",
    "fig_size = [fig_width,fig_height] #(9,5.5) #(9, 4.5)"
   ]
  },
  {
   "cell_type": "code",
   "execution_count": 3,
   "metadata": {},
   "outputs": [],
   "source": [
    "def show_image_and_wait_for_input(image_path):\n",
    "    image = Image.open(image_path)  # Open the image using Pillow\n",
    "    \n",
    "    plt.figure(figsize=[10,10])  # Create a new figure\n",
    "    plt.imshow(image)\n",
    "    plt.axis('off')  # Hide axes\n",
    "    display(plt.gcf())  # Display the image in Jupyter (non-blocking)\n",
    "    \n",
    "    user_input = None\n",
    "    \n",
    "    # Keep asking until a valid response ('y', 'n', or 'p')\n",
    "    while user_input not in ['y', 'n', 'p']:\n",
    "        user_input = input(\"Is the event real/significant? (y/n/p): \").strip().lower()\n",
    "\n",
    "        if user_input in ['y', 'n', 'p']:\n",
    "            clear_output(wait=True)  # Clear the current output (the image)\n",
    "            plt.close()  # Close the figure window\n",
    "    \n",
    "    return user_input"
   ]
  },
  {
   "cell_type": "code",
   "execution_count": 4,
   "metadata": {},
   "outputs": [
    {
     "name": "stderr",
     "output_type": "stream",
     "text": [
      "100%|██████████| 69/69 [1:22:14<00:00, 71.52s/it]\n"
     ]
    }
   ],
   "source": [
    "folder = '/Users/zgl12/Modules/Kakapo/detected_events/'\n",
    "figure_path = '/Users/zgl12/Modules/Kakapo/figures/'\n",
    "\n",
    "files = sorted(glob(folder + '*.csv'))\n",
    "\n",
    "figures_length = sorted(glob(figure_path + '*.png'))\n",
    "\n",
    "print(f'Found {len(figures_length)} lightcurves')\n",
    "\n",
    "time.sleep(1)\n",
    "\n",
    "created_df = pd.DataFrame(columns=['figure_path', 'event', 'cluster', 'fwhm', 'roundness', 'snr', 'psfdiff', \n",
    "                                   'correlation', 'poisson_thresh', 'sig_med', 'y/n/p'])\n",
    "\n",
    "for file in tqdm(files, total=len(files)):\n",
    "    df = pd.read_csv(file)\n",
    "    target = file.split('/')[-1].split('_')[-1].split('.csv')[0]\n",
    "    end_part = file.split('/')[-1].split('events')[-1].split('.csv')[0]\n",
    "    \n",
    "    for i in range(len(df)):\n",
    "        image_path = figure_path + 'figures' + end_part + f'_e{int(df.iloc[i][\"cluster\"])}.png'\n",
    "        good_or_not = show_image_and_wait_for_input(image_path)\n",
    "        \n",
    "        line = df.iloc[i]\n",
    "        \n",
    "        created_df.loc[len(created_df)] = [image_path, target, line['cluster'], line['fwhm'], \n",
    "                                           line['roundness'], line['snr'], line['psfdiff'], \n",
    "                                  \n",
    "                                  \n",
    "                                  \n",
    "                                  \n",
    "                                           line['correlation'], line['poisson_thresh'], line['sig_med'], \n",
    "                                           good_or_not]\n",
    "    # break\n",
    "# c15 t204281574 \n",
    "\n",
    "\n",
    "\n"
   ]
  },
  {
   "cell_type": "code",
   "execution_count": 13,
   "metadata": {},
   "outputs": [],
   "source": [
    "created_df.to_csv('trained_events.csv', index=False)"
   ]
  },
  {
   "cell_type": "code",
   "execution_count": null,
   "metadata": {},
   "outputs": [],
   "source": []
  }
 ],
 "metadata": {
  "kernelspec": {
   "display_name": "base",
   "language": "python",
   "name": "python3"
  },
  "language_info": {
   "codemirror_mode": {
    "name": "ipython",
    "version": 3
   },
   "file_extension": ".py",
   "mimetype": "text/x-python",
   "name": "python",
   "nbconvert_exporter": "python",
   "pygments_lexer": "ipython3",
   "version": "3.11.5"
  }
 },
 "nbformat": 4,
 "nbformat_minor": 2
}
