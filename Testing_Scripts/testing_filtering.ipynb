{
 "cells": [
  {
   "cell_type": "code",
   "execution_count": 1,
   "metadata": {},
   "outputs": [],
   "source": [
    "import pandas as pd\n",
    "import numpy as np\n",
    "import matplotlib.pyplot as plt\n",
    "\n",
    "from photutils.aperture import CircularAperture\n",
    "from photutils.aperture import aperture_photometry\n",
    "\n",
    "%matplotlib widget\n"
   ]
  },
  {
   "cell_type": "code",
   "execution_count": 2,
   "metadata": {},
   "outputs": [],
   "source": [
    "def forced_photometry(diff, x, y):\n",
    "\n",
    "    fluxes = []\n",
    "    \n",
    "    for i in range(len(diff)):\n",
    "        if np.isnan(diff[i]).sum() > diff[i].shape[0] * diff[i].shape[1] * 0.5:\n",
    "            fluxes.append(np.nan)\n",
    "            continue\n",
    "\n",
    "        aperture = CircularAperture([x, y], 1.91)\n",
    "        \n",
    "        phot_table = aperture_photometry(diff[i], aperture)\n",
    "        phot_table = phot_table.to_pandas()\n",
    "        flux = phot_table['aperture_sum'].values[0]\n",
    "        fluxes.append(flux)\n",
    "        \n",
    "    return np.array(fluxes)"
   ]
  },
  {
   "cell_type": "code",
   "execution_count": 3,
   "metadata": {},
   "outputs": [],
   "source": [
    "def check_lc_significance(start, end, x, y, diff, flux_sign = 1):#, buffer = 1, base_range=1.5, grad_val = -300):\n",
    "    \n",
    "    buffer = 53\n",
    "    base_range = 80\n",
    "    \n",
    "    lc = forced_photometry(diff, x, y)\n",
    "    \n",
    "    lc[np.isnan(lc)] = 0\n",
    "    \n",
    "    gradients = np.gradient(lc)\n",
    "    \n",
    "    values = gradients < -100\n",
    "    \n",
    "    # Setting up the light curve\n",
    "    frame_start = start - buffer\n",
    "    frame_end = end + buffer\n",
    "    if frame_start < 0:\n",
    "        frame_start = 0\n",
    "        frame_end += buffer\n",
    "    if frame_end > len(lc):\n",
    "        frame_end = len(lc) - 1 \n",
    "        frame_start -= buffer\n",
    "    \n",
    "    if (frame_start < 0):\n",
    "        frame_start = 0\n",
    "    if (frame_end > len(lc)):\n",
    "        frame_end = len(lc) - 1 \n",
    "    \n",
    "    baseline_start = frame_start - base_range\n",
    "    baseline_end = frame_end + base_range\n",
    "    if baseline_start < 0:\n",
    "        baseline_start = 0\n",
    "    if baseline_end > len(lc):\n",
    "        baseline_end = len(lc) - 1 \n",
    "    \n",
    "    frames = np.arange(len(lc))\n",
    "    ind = ((frames > baseline_start) & (frames < frame_start)) | ((frames < baseline_end) & (frames > frame_end))\n",
    "    med = np.nanmedian(lc[ind])\n",
    "    std = np.nanstd(lc[ind], ddof = 1)\n",
    "    lcevent = lc[int(start):int(end)]\n",
    "    \n",
    "    # Light curve significance\n",
    "    lc_sig = (lcevent - med) / std\n",
    "\n",
    "    if flux_sign >= 0:\n",
    "        sig_max = np.nanmax(lc_sig)\n",
    "        sig_med = np.nanmean(lc_sig)\n",
    "        \n",
    "    else:\n",
    "        sig_max = abs(np.nanmin(lc_sig))\n",
    "        sig_med = abs(np.nanmean(lc_sig))\n",
    "    \n",
    "    lc_sig = (lc - med) / std\n",
    "    return sig_max, sig_med, lc_sig * flux_sign, values"
   ]
  },
  {
   "cell_type": "code",
   "execution_count": 4,
   "metadata": {},
   "outputs": [],
   "source": [
    "filtering_files = '/Users/zgl12/Modules/Kakapo/csv_files/c3/c3_t205922648.csv'\n",
    "diff_file = '/Users/zgl12/Modules/Kakapo/difference_arrays/c3/diff_c3_t205922648.npy'\n",
    "\n",
    "df = pd.read_csv(filtering_files)\n",
    "diff = np.load(diff_file)"
   ]
  },
  {
   "cell_type": "code",
   "execution_count": 5,
   "metadata": {},
   "outputs": [],
   "source": [
    "filtered_df = df[(df['frame'] > 2000) & (abs(df['xcentroid'] - 6.8) < 0.8) & (abs(df['ycentroid'] - 6.8) < 0.8)]\n",
    "\n",
    "x = filtered_df['xcentroid'].mean()\n",
    "y = filtered_df['ycentroid'].mean()\n",
    "\n",
    "x_std = filtered_df['xcentroid'].std()\n",
    "y_std = filtered_df['ycentroid'].std()\n",
    "\n",
    "start = filtered_df['frame'].min()\n",
    "end = filtered_df['frame'].max()"
   ]
  },
  {
   "cell_type": "code",
   "execution_count": null,
   "metadata": {},
   "outputs": [],
   "source": [
    "x, y, x_std, y_std"
   ]
  },
  {
   "cell_type": "code",
   "execution_count": null,
   "metadata": {},
   "outputs": [],
   "source": [
    "filtered_df[(filtered_df['fwhm'] > 0.8) & \n",
    "            (filtered_df['roundness'] < 0.7) & \n",
    "            (filtered_df['snr'] > 4) & \n",
    "            (filtered_df['correlation'] > 0) & \n",
    "            (filtered_df['poisson_thresh'] > 2) &\n",
    "            (filtered_df['psfdiff'] < 1)]"
   ]
  },
  {
   "cell_type": "code",
   "execution_count": 8,
   "metadata": {},
   "outputs": [],
   "source": [
    "flux = forced_photometry(diff, x, y)\n",
    "flux[np.isnan(flux)] = 0\n",
    "\n",
    "gradients = np.gradient(flux)\n",
    "\n",
    "lines = np.arange(len(flux))[gradients < -100]"
   ]
  },
  {
   "cell_type": "code",
   "execution_count": null,
   "metadata": {},
   "outputs": [],
   "source": []
  },
  {
   "cell_type": "code",
   "execution_count": 12,
   "metadata": {},
   "outputs": [],
   "source": [
    "a, b, c, d = check_lc_significance(start, end, x, y, diff, flux_sign = 1)"
   ]
  },
  {
   "cell_type": "code",
   "execution_count": 14,
   "metadata": {},
   "outputs": [],
   "source": [
    "ind = np.where(c > 2)[0]"
   ]
  },
  {
   "cell_type": "code",
   "execution_count": null,
   "metadata": {},
   "outputs": [],
   "source": [
    "ind"
   ]
  },
  {
   "cell_type": "code",
   "execution_count": null,
   "metadata": {},
   "outputs": [],
   "source": [
    "plt.figure()\n",
    "plt.plot(flux)\n",
    "for line in lines:\n",
    "    plt.axvline(line, color = 'r')\n",
    "for i in ind:\n",
    "    plt.axvline(i, color = 'C1', alpha = 0.1)\n",
    "plt.show()"
   ]
  },
  {
   "cell_type": "code",
   "execution_count": null,
   "metadata": {},
   "outputs": [],
   "source": []
  }
 ],
 "metadata": {
  "kernelspec": {
   "display_name": "base",
   "language": "python",
   "name": "python3"
  },
  "language_info": {
   "codemirror_mode": {
    "name": "ipython",
    "version": 3
   },
   "file_extension": ".py",
   "mimetype": "text/x-python",
   "name": "python",
   "nbconvert_exporter": "python",
   "pygments_lexer": "ipython3",
   "version": "3.11.5"
  }
 },
 "nbformat": 4,
 "nbformat_minor": 2
}
